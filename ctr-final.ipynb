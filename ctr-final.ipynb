{
 "cells": [
  {
   "cell_type": "code",
   "execution_count": 1,
   "id": "7bfa93b7",
   "metadata": {
    "_cell_guid": "b1076dfc-b9ad-4769-8c92-a6c4dae69d19",
    "_uuid": "8f2839f25d086af736a60e9eeb907d3b93b6e0e5",
    "execution": {
     "iopub.execute_input": "2021-07-25T11:37:43.875124Z",
     "iopub.status.busy": "2021-07-25T11:37:43.874449Z",
     "iopub.status.idle": "2021-07-25T11:37:43.880328Z",
     "shell.execute_reply": "2021-07-25T11:37:43.879339Z",
     "shell.execute_reply.started": "2021-07-25T10:08:20.130050Z"
    },
    "papermill": {
     "duration": 0.045204,
     "end_time": "2021-07-25T11:37:43.880524",
     "exception": false,
     "start_time": "2021-07-25T11:37:43.835320",
     "status": "completed"
    },
    "tags": []
   },
   "outputs": [
    {
     "name": "stdout",
     "output_type": "stream",
     "text": [
      "/kaggle/input/avazu-ctr-prediction/sampleSubmission.gz\n",
      "/kaggle/input/avazu-ctr-prediction/train.gz\n",
      "/kaggle/input/avazu-ctr-prediction/test.gz\n"
     ]
    }
   ],
   "source": [
    "# This Python 3 environment comes with many helpful analytics libraries installed\n",
    "# It is defined by the kaggle/python Docker image: https://github.com/kaggle/docker-python\n",
    "# For example, here's several helpful packages to load\n",
    "\n",
    "import numpy as np # linear algebra\n",
    "import pandas as pd # data processing, CSV file I/O (e.g. pd.read_csv)\n",
    "\n",
    "# Input data files are available in the read-only \"../input/\" directory\n",
    "# For example, running this (by clicking run or pressing Shift+Enter) will list all files under the input directory\n",
    "\n",
    "import os\n",
    "for dirname, _, filenames in os.walk('/kaggle/input'):\n",
    "    for filename in filenames:\n",
    "        print(os.path.join(dirname, filename))\n",
    "\n",
    "# You can write up to 20GB to the current directory (/kaggle/working/) that gets preserved as output when you create a version using \"Save & Run All\" \n",
    "# You can also write temporary files to /kaggle/temp/, but they won't be saved outside of the current session"
   ]
  },
  {
   "cell_type": "code",
   "execution_count": 2,
   "id": "50beb46b",
   "metadata": {
    "execution": {
     "iopub.execute_input": "2021-07-25T11:37:43.939292Z",
     "iopub.status.busy": "2021-07-25T11:37:43.938420Z",
     "iopub.status.idle": "2021-07-25T11:37:44.964286Z",
     "shell.execute_reply": "2021-07-25T11:37:44.963411Z",
     "shell.execute_reply.started": "2021-07-25T10:08:20.150801Z"
    },
    "papermill": {
     "duration": 1.05662,
     "end_time": "2021-07-25T11:37:44.964489",
     "exception": false,
     "start_time": "2021-07-25T11:37:43.907869",
     "status": "completed"
    },
    "tags": []
   },
   "outputs": [],
   "source": [
    "import pandas as pd\n",
    "import numpy as np\n",
    "import seaborn as sns\n",
    "import matplotlib.pyplot as plt\n",
    "import gzip\n",
    "import random\n",
    "import warnings\n",
    "warnings.filterwarnings('ignore')"
   ]
  },
  {
   "cell_type": "code",
   "execution_count": 3,
   "id": "5dfc245c",
   "metadata": {
    "execution": {
     "iopub.execute_input": "2021-07-25T11:37:46.774617Z",
     "iopub.status.busy": "2021-07-25T11:37:46.738204Z",
     "iopub.status.idle": "2021-07-25T11:41:11.885827Z",
     "shell.execute_reply": "2021-07-25T11:41:11.885269Z",
     "shell.execute_reply.started": "2021-07-25T10:08:21.228776Z"
    },
    "papermill": {
     "duration": 206.891549,
     "end_time": "2021-07-25T11:41:11.886001",
     "exception": false,
     "start_time": "2021-07-25T11:37:44.994452",
     "status": "completed"
    },
    "tags": []
   },
   "outputs": [],
   "source": [
    "n = 40428967  #total number of records in the clickstream data \n",
    "sample_size = 3000000\n",
    "skip_values = sorted(random.sample(range(1,n), n-sample_size))\n",
    "\n",
    "with gzip.open('../input/avazu-ctr-prediction/train.gz') as f:\n",
    "    train = pd.read_csv(f,skiprows = skip_values)\n",
    "train['hour'] = pd.to_datetime(train['hour'],format = '%y%m%d%H')"
   ]
  },
  {
   "cell_type": "code",
   "execution_count": 4,
   "id": "1ec7ab54",
   "metadata": {
    "execution": {
     "iopub.execute_input": "2021-07-25T11:41:11.949421Z",
     "iopub.status.busy": "2021-07-25T11:41:11.948768Z",
     "iopub.status.idle": "2021-07-25T11:41:12.343257Z",
     "shell.execute_reply": "2021-07-25T11:41:12.343769Z",
     "shell.execute_reply.started": "2021-07-25T10:11:41.035611Z"
    },
    "papermill": {
     "duration": 0.431522,
     "end_time": "2021-07-25T11:41:12.343978",
     "exception": false,
     "start_time": "2021-07-25T11:41:11.912456",
     "status": "completed"
    },
    "tags": []
   },
   "outputs": [
    {
     "data": {
      "text/html": [
       "<div>\n",
       "<style scoped>\n",
       "    .dataframe tbody tr th:only-of-type {\n",
       "        vertical-align: middle;\n",
       "    }\n",
       "\n",
       "    .dataframe tbody tr th {\n",
       "        vertical-align: top;\n",
       "    }\n",
       "\n",
       "    .dataframe thead th {\n",
       "        text-align: right;\n",
       "    }\n",
       "</style>\n",
       "<table border=\"1\" class=\"dataframe\">\n",
       "  <thead>\n",
       "    <tr style=\"text-align: right;\">\n",
       "      <th></th>\n",
       "      <th>id</th>\n",
       "      <th>click</th>\n",
       "      <th>hour</th>\n",
       "      <th>C1</th>\n",
       "      <th>banner_pos</th>\n",
       "      <th>site_id</th>\n",
       "      <th>site_domain</th>\n",
       "      <th>site_category</th>\n",
       "      <th>app_id</th>\n",
       "      <th>app_domain</th>\n",
       "      <th>...</th>\n",
       "      <th>device_type</th>\n",
       "      <th>device_conn_type</th>\n",
       "      <th>C14</th>\n",
       "      <th>C15</th>\n",
       "      <th>C16</th>\n",
       "      <th>C17</th>\n",
       "      <th>C18</th>\n",
       "      <th>C19</th>\n",
       "      <th>C20</th>\n",
       "      <th>C21</th>\n",
       "    </tr>\n",
       "  </thead>\n",
       "  <tbody>\n",
       "    <tr>\n",
       "      <th>0</th>\n",
       "      <td>10004574413841529209</td>\n",
       "      <td>0</td>\n",
       "      <td>2014-10-21</td>\n",
       "      <td>1005</td>\n",
       "      <td>0</td>\n",
       "      <td>1fbe01fe</td>\n",
       "      <td>f3845767</td>\n",
       "      <td>28905ebd</td>\n",
       "      <td>ecad2386</td>\n",
       "      <td>7801e8d9</td>\n",
       "      <td>...</td>\n",
       "      <td>1</td>\n",
       "      <td>0</td>\n",
       "      <td>15706</td>\n",
       "      <td>320</td>\n",
       "      <td>50</td>\n",
       "      <td>1722</td>\n",
       "      <td>0</td>\n",
       "      <td>35</td>\n",
       "      <td>-1</td>\n",
       "      <td>79</td>\n",
       "    </tr>\n",
       "    <tr>\n",
       "      <th>1</th>\n",
       "      <td>10007944429976961145</td>\n",
       "      <td>1</td>\n",
       "      <td>2014-10-21</td>\n",
       "      <td>1005</td>\n",
       "      <td>0</td>\n",
       "      <td>1fbe01fe</td>\n",
       "      <td>f3845767</td>\n",
       "      <td>28905ebd</td>\n",
       "      <td>ecad2386</td>\n",
       "      <td>7801e8d9</td>\n",
       "      <td>...</td>\n",
       "      <td>1</td>\n",
       "      <td>0</td>\n",
       "      <td>15701</td>\n",
       "      <td>320</td>\n",
       "      <td>50</td>\n",
       "      <td>1722</td>\n",
       "      <td>0</td>\n",
       "      <td>35</td>\n",
       "      <td>-1</td>\n",
       "      <td>79</td>\n",
       "    </tr>\n",
       "    <tr>\n",
       "      <th>2</th>\n",
       "      <td>10009910814812262951</td>\n",
       "      <td>1</td>\n",
       "      <td>2014-10-21</td>\n",
       "      <td>1005</td>\n",
       "      <td>0</td>\n",
       "      <td>85f751fd</td>\n",
       "      <td>c4e18dd6</td>\n",
       "      <td>50e219e0</td>\n",
       "      <td>a079ef6b</td>\n",
       "      <td>2347f47a</td>\n",
       "      <td>...</td>\n",
       "      <td>1</td>\n",
       "      <td>2</td>\n",
       "      <td>18993</td>\n",
       "      <td>320</td>\n",
       "      <td>50</td>\n",
       "      <td>2161</td>\n",
       "      <td>0</td>\n",
       "      <td>35</td>\n",
       "      <td>100131</td>\n",
       "      <td>157</td>\n",
       "    </tr>\n",
       "    <tr>\n",
       "      <th>3</th>\n",
       "      <td>10013076841337920650</td>\n",
       "      <td>0</td>\n",
       "      <td>2014-10-21</td>\n",
       "      <td>1005</td>\n",
       "      <td>0</td>\n",
       "      <td>1fbe01fe</td>\n",
       "      <td>f3845767</td>\n",
       "      <td>28905ebd</td>\n",
       "      <td>ecad2386</td>\n",
       "      <td>7801e8d9</td>\n",
       "      <td>...</td>\n",
       "      <td>1</td>\n",
       "      <td>0</td>\n",
       "      <td>15702</td>\n",
       "      <td>320</td>\n",
       "      <td>50</td>\n",
       "      <td>1722</td>\n",
       "      <td>0</td>\n",
       "      <td>35</td>\n",
       "      <td>-1</td>\n",
       "      <td>79</td>\n",
       "    </tr>\n",
       "    <tr>\n",
       "      <th>4</th>\n",
       "      <td>10017891063419751227</td>\n",
       "      <td>0</td>\n",
       "      <td>2014-10-21</td>\n",
       "      <td>1005</td>\n",
       "      <td>0</td>\n",
       "      <td>ceea3181</td>\n",
       "      <td>6225315b</td>\n",
       "      <td>f028772b</td>\n",
       "      <td>ecad2386</td>\n",
       "      <td>7801e8d9</td>\n",
       "      <td>...</td>\n",
       "      <td>1</td>\n",
       "      <td>0</td>\n",
       "      <td>15702</td>\n",
       "      <td>320</td>\n",
       "      <td>50</td>\n",
       "      <td>1722</td>\n",
       "      <td>0</td>\n",
       "      <td>35</td>\n",
       "      <td>100084</td>\n",
       "      <td>79</td>\n",
       "    </tr>\n",
       "  </tbody>\n",
       "</table>\n",
       "<p>5 rows × 24 columns</p>\n",
       "</div>"
      ],
      "text/plain": [
       "                     id  click       hour    C1  banner_pos   site_id  \\\n",
       "0  10004574413841529209      0 2014-10-21  1005           0  1fbe01fe   \n",
       "1  10007944429976961145      1 2014-10-21  1005           0  1fbe01fe   \n",
       "2  10009910814812262951      1 2014-10-21  1005           0  85f751fd   \n",
       "3  10013076841337920650      0 2014-10-21  1005           0  1fbe01fe   \n",
       "4  10017891063419751227      0 2014-10-21  1005           0  ceea3181   \n",
       "\n",
       "  site_domain site_category    app_id app_domain  ... device_type  \\\n",
       "0    f3845767      28905ebd  ecad2386   7801e8d9  ...           1   \n",
       "1    f3845767      28905ebd  ecad2386   7801e8d9  ...           1   \n",
       "2    c4e18dd6      50e219e0  a079ef6b   2347f47a  ...           1   \n",
       "3    f3845767      28905ebd  ecad2386   7801e8d9  ...           1   \n",
       "4    6225315b      f028772b  ecad2386   7801e8d9  ...           1   \n",
       "\n",
       "  device_conn_type    C14  C15  C16   C17  C18  C19     C20  C21  \n",
       "0                0  15706  320   50  1722    0   35      -1   79  \n",
       "1                0  15701  320   50  1722    0   35      -1   79  \n",
       "2                2  18993  320   50  2161    0   35  100131  157  \n",
       "3                0  15702  320   50  1722    0   35      -1   79  \n",
       "4                0  15702  320   50  1722    0   35  100084   79  \n",
       "\n",
       "[5 rows x 24 columns]"
      ]
     },
     "execution_count": 4,
     "metadata": {},
     "output_type": "execute_result"
    }
   ],
   "source": [
    "train.head()"
   ]
  },
  {
   "cell_type": "code",
   "execution_count": 5,
   "id": "7ed7a6d1",
   "metadata": {
    "execution": {
     "iopub.execute_input": "2021-07-25T11:41:12.416803Z",
     "iopub.status.busy": "2021-07-25T11:41:12.406183Z",
     "iopub.status.idle": "2021-07-25T11:41:12.420114Z",
     "shell.execute_reply": "2021-07-25T11:41:12.420612Z",
     "shell.execute_reply.started": "2021-07-25T10:11:41.073495Z"
    },
    "papermill": {
     "duration": 0.050015,
     "end_time": "2021-07-25T11:41:12.420780",
     "exception": false,
     "start_time": "2021-07-25T11:41:12.370765",
     "status": "completed"
    },
    "tags": []
   },
   "outputs": [
    {
     "name": "stdout",
     "output_type": "stream",
     "text": [
      "<class 'pandas.core.frame.DataFrame'>\n",
      "RangeIndex: 3000000 entries, 0 to 2999999\n",
      "Data columns (total 24 columns):\n",
      " #   Column            Dtype         \n",
      "---  ------            -----         \n",
      " 0   id                uint64        \n",
      " 1   click             int64         \n",
      " 2   hour              datetime64[ns]\n",
      " 3   C1                int64         \n",
      " 4   banner_pos        int64         \n",
      " 5   site_id           object        \n",
      " 6   site_domain       object        \n",
      " 7   site_category     object        \n",
      " 8   app_id            object        \n",
      " 9   app_domain        object        \n",
      " 10  app_category      object        \n",
      " 11  device_id         object        \n",
      " 12  device_ip         object        \n",
      " 13  device_model      object        \n",
      " 14  device_type       int64         \n",
      " 15  device_conn_type  int64         \n",
      " 16  C14               int64         \n",
      " 17  C15               int64         \n",
      " 18  C16               int64         \n",
      " 19  C17               int64         \n",
      " 20  C18               int64         \n",
      " 21  C19               int64         \n",
      " 22  C20               int64         \n",
      " 23  C21               int64         \n",
      "dtypes: datetime64[ns](1), int64(13), object(9), uint64(1)\n",
      "memory usage: 549.3+ MB\n"
     ]
    }
   ],
   "source": [
    "train.info()"
   ]
  },
  {
   "cell_type": "code",
   "execution_count": 6,
   "id": "2ddc41bd",
   "metadata": {
    "execution": {
     "iopub.execute_input": "2021-07-25T11:41:12.482320Z",
     "iopub.status.busy": "2021-07-25T11:41:12.480936Z",
     "iopub.status.idle": "2021-07-25T11:41:15.193837Z",
     "shell.execute_reply": "2021-07-25T11:41:15.194319Z",
     "shell.execute_reply.started": "2021-07-25T10:11:41.096757Z"
    },
    "papermill": {
     "duration": 2.746662,
     "end_time": "2021-07-25T11:41:15.194491",
     "exception": false,
     "start_time": "2021-07-25T11:41:12.447829",
     "status": "completed"
    },
    "tags": []
   },
   "outputs": [
    {
     "data": {
      "text/plain": [
       "id                  0\n",
       "click               0\n",
       "hour                0\n",
       "C1                  0\n",
       "banner_pos          0\n",
       "site_id             0\n",
       "site_domain         0\n",
       "site_category       0\n",
       "app_id              0\n",
       "app_domain          0\n",
       "app_category        0\n",
       "device_id           0\n",
       "device_ip           0\n",
       "device_model        0\n",
       "device_type         0\n",
       "device_conn_type    0\n",
       "C14                 0\n",
       "C15                 0\n",
       "C16                 0\n",
       "C17                 0\n",
       "C18                 0\n",
       "C19                 0\n",
       "C20                 0\n",
       "C21                 0\n",
       "dtype: int64"
      ]
     },
     "execution_count": 6,
     "metadata": {},
     "output_type": "execute_result"
    }
   ],
   "source": [
    "train.isnull().sum()"
   ]
  },
  {
   "cell_type": "code",
   "execution_count": 7,
   "id": "154fbfaa",
   "metadata": {
    "execution": {
     "iopub.execute_input": "2021-07-25T11:41:15.254281Z",
     "iopub.status.busy": "2021-07-25T11:41:15.253597Z",
     "iopub.status.idle": "2021-07-25T11:41:27.672333Z",
     "shell.execute_reply": "2021-07-25T11:41:27.671697Z",
     "shell.execute_reply.started": "2021-07-25T10:11:43.795843Z"
    },
    "papermill": {
     "duration": 12.450779,
     "end_time": "2021-07-25T11:41:27.672473",
     "exception": false,
     "start_time": "2021-07-25T11:41:15.221694",
     "status": "completed"
    },
    "tags": []
   },
   "outputs": [
    {
     "data": {
      "text/html": [
       "<div>\n",
       "<style scoped>\n",
       "    .dataframe tbody tr th:only-of-type {\n",
       "        vertical-align: middle;\n",
       "    }\n",
       "\n",
       "    .dataframe tbody tr th {\n",
       "        vertical-align: top;\n",
       "    }\n",
       "\n",
       "    .dataframe thead th {\n",
       "        text-align: right;\n",
       "    }\n",
       "</style>\n",
       "<table border=\"1\" class=\"dataframe\">\n",
       "  <thead>\n",
       "    <tr style=\"text-align: right;\">\n",
       "      <th></th>\n",
       "      <th>id</th>\n",
       "      <th>click</th>\n",
       "      <th>hour</th>\n",
       "      <th>C1</th>\n",
       "      <th>banner_pos</th>\n",
       "      <th>site_id</th>\n",
       "      <th>site_domain</th>\n",
       "      <th>site_category</th>\n",
       "      <th>app_id</th>\n",
       "      <th>app_domain</th>\n",
       "      <th>...</th>\n",
       "      <th>device_type</th>\n",
       "      <th>device_conn_type</th>\n",
       "      <th>C14</th>\n",
       "      <th>C15</th>\n",
       "      <th>C16</th>\n",
       "      <th>C17</th>\n",
       "      <th>C18</th>\n",
       "      <th>C19</th>\n",
       "      <th>C20</th>\n",
       "      <th>C21</th>\n",
       "    </tr>\n",
       "  </thead>\n",
       "  <tbody>\n",
       "    <tr>\n",
       "      <th>count</th>\n",
       "      <td>3.000000e+06</td>\n",
       "      <td>3.000000e+06</td>\n",
       "      <td>3000000</td>\n",
       "      <td>3.000000e+06</td>\n",
       "      <td>3.000000e+06</td>\n",
       "      <td>3000000</td>\n",
       "      <td>3000000</td>\n",
       "      <td>3000000</td>\n",
       "      <td>3000000</td>\n",
       "      <td>3000000</td>\n",
       "      <td>...</td>\n",
       "      <td>3.000000e+06</td>\n",
       "      <td>3.000000e+06</td>\n",
       "      <td>3.000000e+06</td>\n",
       "      <td>3.000000e+06</td>\n",
       "      <td>3.000000e+06</td>\n",
       "      <td>3.000000e+06</td>\n",
       "      <td>3.000000e+06</td>\n",
       "      <td>3.000000e+06</td>\n",
       "      <td>3.000000e+06</td>\n",
       "      <td>3.000000e+06</td>\n",
       "    </tr>\n",
       "    <tr>\n",
       "      <th>unique</th>\n",
       "      <td>NaN</td>\n",
       "      <td>NaN</td>\n",
       "      <td>240</td>\n",
       "      <td>NaN</td>\n",
       "      <td>NaN</td>\n",
       "      <td>3269</td>\n",
       "      <td>3927</td>\n",
       "      <td>23</td>\n",
       "      <td>4468</td>\n",
       "      <td>275</td>\n",
       "      <td>...</td>\n",
       "      <td>NaN</td>\n",
       "      <td>NaN</td>\n",
       "      <td>NaN</td>\n",
       "      <td>NaN</td>\n",
       "      <td>NaN</td>\n",
       "      <td>NaN</td>\n",
       "      <td>NaN</td>\n",
       "      <td>NaN</td>\n",
       "      <td>NaN</td>\n",
       "      <td>NaN</td>\n",
       "    </tr>\n",
       "    <tr>\n",
       "      <th>top</th>\n",
       "      <td>NaN</td>\n",
       "      <td>NaN</td>\n",
       "      <td>2014-10-22 09:00:00</td>\n",
       "      <td>NaN</td>\n",
       "      <td>NaN</td>\n",
       "      <td>85f751fd</td>\n",
       "      <td>c4e18dd6</td>\n",
       "      <td>50e219e0</td>\n",
       "      <td>ecad2386</td>\n",
       "      <td>7801e8d9</td>\n",
       "      <td>...</td>\n",
       "      <td>NaN</td>\n",
       "      <td>NaN</td>\n",
       "      <td>NaN</td>\n",
       "      <td>NaN</td>\n",
       "      <td>NaN</td>\n",
       "      <td>NaN</td>\n",
       "      <td>NaN</td>\n",
       "      <td>NaN</td>\n",
       "      <td>NaN</td>\n",
       "      <td>NaN</td>\n",
       "    </tr>\n",
       "    <tr>\n",
       "      <th>freq</th>\n",
       "      <td>NaN</td>\n",
       "      <td>NaN</td>\n",
       "      <td>33307</td>\n",
       "      <td>NaN</td>\n",
       "      <td>NaN</td>\n",
       "      <td>1084109</td>\n",
       "      <td>1123759</td>\n",
       "      <td>1227255</td>\n",
       "      <td>1915891</td>\n",
       "      <td>2020006</td>\n",
       "      <td>...</td>\n",
       "      <td>NaN</td>\n",
       "      <td>NaN</td>\n",
       "      <td>NaN</td>\n",
       "      <td>NaN</td>\n",
       "      <td>NaN</td>\n",
       "      <td>NaN</td>\n",
       "      <td>NaN</td>\n",
       "      <td>NaN</td>\n",
       "      <td>NaN</td>\n",
       "      <td>NaN</td>\n",
       "    </tr>\n",
       "    <tr>\n",
       "      <th>first</th>\n",
       "      <td>NaN</td>\n",
       "      <td>NaN</td>\n",
       "      <td>2014-10-21 00:00:00</td>\n",
       "      <td>NaN</td>\n",
       "      <td>NaN</td>\n",
       "      <td>NaN</td>\n",
       "      <td>NaN</td>\n",
       "      <td>NaN</td>\n",
       "      <td>NaN</td>\n",
       "      <td>NaN</td>\n",
       "      <td>...</td>\n",
       "      <td>NaN</td>\n",
       "      <td>NaN</td>\n",
       "      <td>NaN</td>\n",
       "      <td>NaN</td>\n",
       "      <td>NaN</td>\n",
       "      <td>NaN</td>\n",
       "      <td>NaN</td>\n",
       "      <td>NaN</td>\n",
       "      <td>NaN</td>\n",
       "      <td>NaN</td>\n",
       "    </tr>\n",
       "    <tr>\n",
       "      <th>last</th>\n",
       "      <td>NaN</td>\n",
       "      <td>NaN</td>\n",
       "      <td>2014-10-30 23:00:00</td>\n",
       "      <td>NaN</td>\n",
       "      <td>NaN</td>\n",
       "      <td>NaN</td>\n",
       "      <td>NaN</td>\n",
       "      <td>NaN</td>\n",
       "      <td>NaN</td>\n",
       "      <td>NaN</td>\n",
       "      <td>...</td>\n",
       "      <td>NaN</td>\n",
       "      <td>NaN</td>\n",
       "      <td>NaN</td>\n",
       "      <td>NaN</td>\n",
       "      <td>NaN</td>\n",
       "      <td>NaN</td>\n",
       "      <td>NaN</td>\n",
       "      <td>NaN</td>\n",
       "      <td>NaN</td>\n",
       "      <td>NaN</td>\n",
       "    </tr>\n",
       "    <tr>\n",
       "      <th>mean</th>\n",
       "      <td>9.220926e+18</td>\n",
       "      <td>1.699453e-01</td>\n",
       "      <td>NaN</td>\n",
       "      <td>1.004969e+03</td>\n",
       "      <td>2.879123e-01</td>\n",
       "      <td>NaN</td>\n",
       "      <td>NaN</td>\n",
       "      <td>NaN</td>\n",
       "      <td>NaN</td>\n",
       "      <td>NaN</td>\n",
       "      <td>...</td>\n",
       "      <td>1.015494e+00</td>\n",
       "      <td>3.317533e-01</td>\n",
       "      <td>1.884412e+04</td>\n",
       "      <td>3.188808e+02</td>\n",
       "      <td>6.001793e+01</td>\n",
       "      <td>2.112911e+03</td>\n",
       "      <td>1.432090e+00</td>\n",
       "      <td>2.272356e+02</td>\n",
       "      <td>5.320139e+04</td>\n",
       "      <td>8.338072e+01</td>\n",
       "    </tr>\n",
       "    <tr>\n",
       "      <th>std</th>\n",
       "      <td>5.325967e+18</td>\n",
       "      <td>3.755848e-01</td>\n",
       "      <td>NaN</td>\n",
       "      <td>1.093073e+00</td>\n",
       "      <td>5.051458e-01</td>\n",
       "      <td>NaN</td>\n",
       "      <td>NaN</td>\n",
       "      <td>NaN</td>\n",
       "      <td>NaN</td>\n",
       "      <td>NaN</td>\n",
       "      <td>...</td>\n",
       "      <td>5.266542e-01</td>\n",
       "      <td>8.548910e-01</td>\n",
       "      <td>4.956686e+03</td>\n",
       "      <td>2.122325e+01</td>\n",
       "      <td>4.706789e+01</td>\n",
       "      <td>6.090761e+02</td>\n",
       "      <td>1.326431e+00</td>\n",
       "      <td>3.510064e+02</td>\n",
       "      <td>4.995781e+04</td>\n",
       "      <td>7.028457e+01</td>\n",
       "    </tr>\n",
       "    <tr>\n",
       "      <th>min</th>\n",
       "      <td>8.396642e+12</td>\n",
       "      <td>0.000000e+00</td>\n",
       "      <td>NaN</td>\n",
       "      <td>1.001000e+03</td>\n",
       "      <td>0.000000e+00</td>\n",
       "      <td>NaN</td>\n",
       "      <td>NaN</td>\n",
       "      <td>NaN</td>\n",
       "      <td>NaN</td>\n",
       "      <td>NaN</td>\n",
       "      <td>...</td>\n",
       "      <td>0.000000e+00</td>\n",
       "      <td>0.000000e+00</td>\n",
       "      <td>3.750000e+02</td>\n",
       "      <td>1.200000e+02</td>\n",
       "      <td>2.000000e+01</td>\n",
       "      <td>1.120000e+02</td>\n",
       "      <td>0.000000e+00</td>\n",
       "      <td>3.300000e+01</td>\n",
       "      <td>-1.000000e+00</td>\n",
       "      <td>1.000000e+00</td>\n",
       "    </tr>\n",
       "    <tr>\n",
       "      <th>25%</th>\n",
       "      <td>4.609886e+18</td>\n",
       "      <td>0.000000e+00</td>\n",
       "      <td>NaN</td>\n",
       "      <td>1.005000e+03</td>\n",
       "      <td>0.000000e+00</td>\n",
       "      <td>NaN</td>\n",
       "      <td>NaN</td>\n",
       "      <td>NaN</td>\n",
       "      <td>NaN</td>\n",
       "      <td>NaN</td>\n",
       "      <td>...</td>\n",
       "      <td>1.000000e+00</td>\n",
       "      <td>0.000000e+00</td>\n",
       "      <td>1.692000e+04</td>\n",
       "      <td>3.200000e+02</td>\n",
       "      <td>5.000000e+01</td>\n",
       "      <td>1.863000e+03</td>\n",
       "      <td>0.000000e+00</td>\n",
       "      <td>3.500000e+01</td>\n",
       "      <td>-1.000000e+00</td>\n",
       "      <td>2.300000e+01</td>\n",
       "    </tr>\n",
       "    <tr>\n",
       "      <th>50%</th>\n",
       "      <td>9.223410e+18</td>\n",
       "      <td>0.000000e+00</td>\n",
       "      <td>NaN</td>\n",
       "      <td>1.005000e+03</td>\n",
       "      <td>0.000000e+00</td>\n",
       "      <td>NaN</td>\n",
       "      <td>NaN</td>\n",
       "      <td>NaN</td>\n",
       "      <td>NaN</td>\n",
       "      <td>NaN</td>\n",
       "      <td>...</td>\n",
       "      <td>1.000000e+00</td>\n",
       "      <td>0.000000e+00</td>\n",
       "      <td>2.034600e+04</td>\n",
       "      <td>3.200000e+02</td>\n",
       "      <td>5.000000e+01</td>\n",
       "      <td>2.323000e+03</td>\n",
       "      <td>2.000000e+00</td>\n",
       "      <td>3.900000e+01</td>\n",
       "      <td>1.000480e+05</td>\n",
       "      <td>6.100000e+01</td>\n",
       "    </tr>\n",
       "    <tr>\n",
       "      <th>75%</th>\n",
       "      <td>1.383234e+19</td>\n",
       "      <td>0.000000e+00</td>\n",
       "      <td>NaN</td>\n",
       "      <td>1.005000e+03</td>\n",
       "      <td>1.000000e+00</td>\n",
       "      <td>NaN</td>\n",
       "      <td>NaN</td>\n",
       "      <td>NaN</td>\n",
       "      <td>NaN</td>\n",
       "      <td>NaN</td>\n",
       "      <td>...</td>\n",
       "      <td>1.000000e+00</td>\n",
       "      <td>0.000000e+00</td>\n",
       "      <td>2.189400e+04</td>\n",
       "      <td>3.200000e+02</td>\n",
       "      <td>5.000000e+01</td>\n",
       "      <td>2.526000e+03</td>\n",
       "      <td>3.000000e+00</td>\n",
       "      <td>1.710000e+02</td>\n",
       "      <td>1.000900e+05</td>\n",
       "      <td>1.010000e+02</td>\n",
       "    </tr>\n",
       "    <tr>\n",
       "      <th>max</th>\n",
       "      <td>1.844674e+19</td>\n",
       "      <td>1.000000e+00</td>\n",
       "      <td>NaN</td>\n",
       "      <td>1.012000e+03</td>\n",
       "      <td>7.000000e+00</td>\n",
       "      <td>NaN</td>\n",
       "      <td>NaN</td>\n",
       "      <td>NaN</td>\n",
       "      <td>NaN</td>\n",
       "      <td>NaN</td>\n",
       "      <td>...</td>\n",
       "      <td>5.000000e+00</td>\n",
       "      <td>5.000000e+00</td>\n",
       "      <td>2.405200e+04</td>\n",
       "      <td>1.024000e+03</td>\n",
       "      <td>1.024000e+03</td>\n",
       "      <td>2.758000e+03</td>\n",
       "      <td>3.000000e+00</td>\n",
       "      <td>1.839000e+03</td>\n",
       "      <td>1.002480e+05</td>\n",
       "      <td>2.550000e+02</td>\n",
       "    </tr>\n",
       "  </tbody>\n",
       "</table>\n",
       "<p>13 rows × 24 columns</p>\n",
       "</div>"
      ],
      "text/plain": [
       "                  id         click                 hour            C1  \\\n",
       "count   3.000000e+06  3.000000e+06              3000000  3.000000e+06   \n",
       "unique           NaN           NaN                  240           NaN   \n",
       "top              NaN           NaN  2014-10-22 09:00:00           NaN   \n",
       "freq             NaN           NaN                33307           NaN   \n",
       "first            NaN           NaN  2014-10-21 00:00:00           NaN   \n",
       "last             NaN           NaN  2014-10-30 23:00:00           NaN   \n",
       "mean    9.220926e+18  1.699453e-01                  NaN  1.004969e+03   \n",
       "std     5.325967e+18  3.755848e-01                  NaN  1.093073e+00   \n",
       "min     8.396642e+12  0.000000e+00                  NaN  1.001000e+03   \n",
       "25%     4.609886e+18  0.000000e+00                  NaN  1.005000e+03   \n",
       "50%     9.223410e+18  0.000000e+00                  NaN  1.005000e+03   \n",
       "75%     1.383234e+19  0.000000e+00                  NaN  1.005000e+03   \n",
       "max     1.844674e+19  1.000000e+00                  NaN  1.012000e+03   \n",
       "\n",
       "          banner_pos   site_id site_domain site_category    app_id app_domain  \\\n",
       "count   3.000000e+06   3000000     3000000       3000000   3000000    3000000   \n",
       "unique           NaN      3269        3927            23      4468        275   \n",
       "top              NaN  85f751fd    c4e18dd6      50e219e0  ecad2386   7801e8d9   \n",
       "freq             NaN   1084109     1123759       1227255   1915891    2020006   \n",
       "first            NaN       NaN         NaN           NaN       NaN        NaN   \n",
       "last             NaN       NaN         NaN           NaN       NaN        NaN   \n",
       "mean    2.879123e-01       NaN         NaN           NaN       NaN        NaN   \n",
       "std     5.051458e-01       NaN         NaN           NaN       NaN        NaN   \n",
       "min     0.000000e+00       NaN         NaN           NaN       NaN        NaN   \n",
       "25%     0.000000e+00       NaN         NaN           NaN       NaN        NaN   \n",
       "50%     0.000000e+00       NaN         NaN           NaN       NaN        NaN   \n",
       "75%     1.000000e+00       NaN         NaN           NaN       NaN        NaN   \n",
       "max     7.000000e+00       NaN         NaN           NaN       NaN        NaN   \n",
       "\n",
       "        ...   device_type device_conn_type           C14           C15  \\\n",
       "count   ...  3.000000e+06     3.000000e+06  3.000000e+06  3.000000e+06   \n",
       "unique  ...           NaN              NaN           NaN           NaN   \n",
       "top     ...           NaN              NaN           NaN           NaN   \n",
       "freq    ...           NaN              NaN           NaN           NaN   \n",
       "first   ...           NaN              NaN           NaN           NaN   \n",
       "last    ...           NaN              NaN           NaN           NaN   \n",
       "mean    ...  1.015494e+00     3.317533e-01  1.884412e+04  3.188808e+02   \n",
       "std     ...  5.266542e-01     8.548910e-01  4.956686e+03  2.122325e+01   \n",
       "min     ...  0.000000e+00     0.000000e+00  3.750000e+02  1.200000e+02   \n",
       "25%     ...  1.000000e+00     0.000000e+00  1.692000e+04  3.200000e+02   \n",
       "50%     ...  1.000000e+00     0.000000e+00  2.034600e+04  3.200000e+02   \n",
       "75%     ...  1.000000e+00     0.000000e+00  2.189400e+04  3.200000e+02   \n",
       "max     ...  5.000000e+00     5.000000e+00  2.405200e+04  1.024000e+03   \n",
       "\n",
       "                 C16           C17           C18           C19           C20  \\\n",
       "count   3.000000e+06  3.000000e+06  3.000000e+06  3.000000e+06  3.000000e+06   \n",
       "unique           NaN           NaN           NaN           NaN           NaN   \n",
       "top              NaN           NaN           NaN           NaN           NaN   \n",
       "freq             NaN           NaN           NaN           NaN           NaN   \n",
       "first            NaN           NaN           NaN           NaN           NaN   \n",
       "last             NaN           NaN           NaN           NaN           NaN   \n",
       "mean    6.001793e+01  2.112911e+03  1.432090e+00  2.272356e+02  5.320139e+04   \n",
       "std     4.706789e+01  6.090761e+02  1.326431e+00  3.510064e+02  4.995781e+04   \n",
       "min     2.000000e+01  1.120000e+02  0.000000e+00  3.300000e+01 -1.000000e+00   \n",
       "25%     5.000000e+01  1.863000e+03  0.000000e+00  3.500000e+01 -1.000000e+00   \n",
       "50%     5.000000e+01  2.323000e+03  2.000000e+00  3.900000e+01  1.000480e+05   \n",
       "75%     5.000000e+01  2.526000e+03  3.000000e+00  1.710000e+02  1.000900e+05   \n",
       "max     1.024000e+03  2.758000e+03  3.000000e+00  1.839000e+03  1.002480e+05   \n",
       "\n",
       "                 C21  \n",
       "count   3.000000e+06  \n",
       "unique           NaN  \n",
       "top              NaN  \n",
       "freq             NaN  \n",
       "first            NaN  \n",
       "last             NaN  \n",
       "mean    8.338072e+01  \n",
       "std     7.028457e+01  \n",
       "min     1.000000e+00  \n",
       "25%     2.300000e+01  \n",
       "50%     6.100000e+01  \n",
       "75%     1.010000e+02  \n",
       "max     2.550000e+02  \n",
       "\n",
       "[13 rows x 24 columns]"
      ]
     },
     "execution_count": 7,
     "metadata": {},
     "output_type": "execute_result"
    }
   ],
   "source": [
    "train.describe(include = 'all')"
   ]
  },
  {
   "cell_type": "code",
   "execution_count": 8,
   "id": "b993b298",
   "metadata": {
    "execution": {
     "iopub.execute_input": "2021-07-25T11:41:27.738305Z",
     "iopub.status.busy": "2021-07-25T11:41:27.736281Z",
     "iopub.status.idle": "2021-07-25T11:41:28.127243Z",
     "shell.execute_reply": "2021-07-25T11:41:28.127809Z",
     "shell.execute_reply.started": "2021-07-25T10:11:56.372353Z"
    },
    "papermill": {
     "duration": 0.426643,
     "end_time": "2021-07-25T11:41:28.128016",
     "exception": false,
     "start_time": "2021-07-25T11:41:27.701373",
     "status": "completed"
    },
    "tags": []
   },
   "outputs": [],
   "source": [
    "X = train.drop('click',axis=1)\n",
    "y = train.click"
   ]
  },
  {
   "cell_type": "code",
   "execution_count": 9,
   "id": "f6d511a9",
   "metadata": {
    "execution": {
     "iopub.execute_input": "2021-07-25T11:41:28.193189Z",
     "iopub.status.busy": "2021-07-25T11:41:28.192511Z",
     "iopub.status.idle": "2021-07-25T11:41:33.034477Z",
     "shell.execute_reply": "2021-07-25T11:41:33.033861Z",
     "shell.execute_reply.started": "2021-07-25T10:11:56.751450Z"
    },
    "papermill": {
     "duration": 4.876414,
     "end_time": "2021-07-25T11:41:33.034624",
     "exception": false,
     "start_time": "2021-07-25T11:41:28.158210",
     "status": "completed"
    },
    "tags": []
   },
   "outputs": [],
   "source": [
    "from sklearn.model_selection import train_test_split\n",
    "X_train,X_test,y_train,y_test = train_test_split(X,y,test_size = 0.3,random_state = 42)"
   ]
  },
  {
   "cell_type": "code",
   "execution_count": 10,
   "id": "2ea0c86d",
   "metadata": {
    "execution": {
     "iopub.execute_input": "2021-07-25T11:41:33.334682Z",
     "iopub.status.busy": "2021-07-25T11:41:33.202783Z",
     "iopub.status.idle": "2021-07-25T11:41:33.502323Z",
     "shell.execute_reply": "2021-07-25T11:41:33.501398Z",
     "shell.execute_reply.started": "2021-07-25T10:12:01.781433Z"
    },
    "papermill": {
     "duration": 0.438097,
     "end_time": "2021-07-25T11:41:33.502515",
     "exception": false,
     "start_time": "2021-07-25T11:41:33.064418",
     "status": "completed"
    },
    "tags": []
   },
   "outputs": [
    {
     "name": "stdout",
     "output_type": "stream",
     "text": [
      "['C1', 'banner_pos', 'device_type', 'device_conn_type', 'C14', 'C15', 'C16', 'C17', 'C18', 'C19', 'C20', 'C21']\n",
      "['site_id', 'site_domain', 'site_category', 'app_id', 'app_domain', 'app_category', 'device_id', 'device_ip', 'device_model']\n"
     ]
    }
   ],
   "source": [
    "num_cols = X.select_dtypes(include = ['int','float']).columns.tolist()\n",
    "categorical_cols = X.select_dtypes(include = ['object']).columns.tolist()\n",
    "print(num_cols)\n",
    "print(categorical_cols)"
   ]
  },
  {
   "cell_type": "markdown",
   "id": "ed0e7a1b",
   "metadata": {
    "papermill": {
     "duration": 0.028072,
     "end_time": "2021-07-25T11:41:33.559805",
     "exception": false,
     "start_time": "2021-07-25T11:41:33.531733",
     "status": "completed"
    },
    "tags": []
   },
   "source": [
    "## Hashing\n"
   ]
  },
  {
   "cell_type": "code",
   "execution_count": 11,
   "id": "f18bd70f",
   "metadata": {
    "execution": {
     "iopub.execute_input": "2021-07-25T11:41:33.624055Z",
     "iopub.status.busy": "2021-07-25T11:41:33.622728Z",
     "iopub.status.idle": "2021-07-25T11:41:58.828903Z",
     "shell.execute_reply": "2021-07-25T11:41:58.828226Z",
     "shell.execute_reply.started": "2021-07-25T10:12:02.198516Z"
    },
    "papermill": {
     "duration": 25.240835,
     "end_time": "2021-07-25T11:41:58.829082",
     "exception": false,
     "start_time": "2021-07-25T11:41:33.588247",
     "status": "completed"
    },
    "tags": []
   },
   "outputs": [],
   "source": [
    "for col in categorical_cols:\n",
    "\tX_train[col] = X_train[col].apply(lambda x: hash(x))\n",
    "    \n",
    "for col in categorical_cols:\n",
    "    X_test[col] = X_test[col].apply(lambda x:hash(x))"
   ]
  },
  {
   "cell_type": "markdown",
   "id": "7b1445b4",
   "metadata": {
    "papermill": {
     "duration": 0.028075,
     "end_time": "2021-07-25T11:41:58.886247",
     "exception": false,
     "start_time": "2021-07-25T11:41:58.858172",
     "status": "completed"
    },
    "tags": []
   },
   "source": [
    "## Scaling the Numerical Values"
   ]
  },
  {
   "cell_type": "code",
   "execution_count": 12,
   "id": "51dd9f15",
   "metadata": {
    "execution": {
     "iopub.execute_input": "2021-07-25T11:41:58.949800Z",
     "iopub.status.busy": "2021-07-25T11:41:58.949095Z",
     "iopub.status.idle": "2021-07-25T11:42:12.704161Z",
     "shell.execute_reply": "2021-07-25T11:42:12.703556Z",
     "shell.execute_reply.started": "2021-07-25T10:12:28.273340Z"
    },
    "papermill": {
     "duration": 13.789483,
     "end_time": "2021-07-25T11:42:12.704318",
     "exception": false,
     "start_time": "2021-07-25T11:41:58.914835",
     "status": "completed"
    },
    "tags": []
   },
   "outputs": [],
   "source": [
    "from sklearn.preprocessing import StandardScaler\n",
    "std = StandardScaler()\n",
    "X_train[num_cols] = std.fit_transform(X_train[num_cols])\n",
    "X_test[num_cols] = std.transform(X_test[num_cols])"
   ]
  },
  {
   "cell_type": "code",
   "execution_count": 13,
   "id": "c54dbae6",
   "metadata": {
    "execution": {
     "iopub.execute_input": "2021-07-25T11:42:12.772306Z",
     "iopub.status.busy": "2021-07-25T11:42:12.771647Z",
     "iopub.status.idle": "2021-07-25T11:42:13.605592Z",
     "shell.execute_reply": "2021-07-25T11:42:13.606157Z",
     "shell.execute_reply.started": "2021-07-25T10:12:42.294347Z"
    },
    "papermill": {
     "duration": 0.873291,
     "end_time": "2021-07-25T11:42:13.606342",
     "exception": false,
     "start_time": "2021-07-25T11:42:12.733051",
     "status": "completed"
    },
    "tags": []
   },
   "outputs": [],
   "source": [
    "X_train['user_info'] = X_train.device_ip + X_train.device_model + X_train.device_id\n",
    "X_train = X_train.drop(['device_id','device_ip','device_model','id','hour'],axis=1)\n",
    "    \n",
    "X_train['device_info'] = X_train.device_type + X_train.banner_pos + X_train.device_conn_type\n",
    "X_train = X_train.drop(['banner_pos','device_conn_type','device_type'],axis=1)\n",
    "\n",
    "X_test['user_info'] = X_test.device_ip + X_test.device_model + X_test.device_id\n",
    "X_test = X_test.drop(['device_id','device_ip','device_model','id','hour'],axis=1)\n",
    "    \n",
    "X_test['device_info'] = X_test.device_type + X_test.banner_pos + X_test.device_conn_type\n",
    "X_test = X_test.drop(['banner_pos','device_conn_type','device_type'],axis=1)"
   ]
  },
  {
   "cell_type": "markdown",
   "id": "8a83b0b7",
   "metadata": {
    "papermill": {
     "duration": 0.027936,
     "end_time": "2021-07-25T11:42:13.662761",
     "exception": false,
     "start_time": "2021-07-25T11:42:13.634825",
     "status": "completed"
    },
    "tags": []
   },
   "source": [
    "## Model - Decision Tree Classifier"
   ]
  },
  {
   "cell_type": "code",
   "execution_count": 14,
   "id": "b35f4763",
   "metadata": {
    "execution": {
     "iopub.execute_input": "2021-07-25T11:42:13.722762Z",
     "iopub.status.busy": "2021-07-25T11:42:13.722186Z",
     "iopub.status.idle": "2021-07-25T11:42:29.520110Z",
     "shell.execute_reply": "2021-07-25T11:42:29.519398Z",
     "shell.execute_reply.started": "2021-07-25T10:12:43.130844Z"
    },
    "papermill": {
     "duration": 15.828638,
     "end_time": "2021-07-25T11:42:29.520261",
     "exception": false,
     "start_time": "2021-07-25T11:42:13.691623",
     "status": "completed"
    },
    "tags": []
   },
   "outputs": [
    {
     "name": "stdout",
     "output_type": "stream",
     "text": [
      "Train Score: 0.8340942857142857\n",
      "Test Score: 0.8330722222222222\n"
     ]
    }
   ],
   "source": [
    "from sklearn.tree import DecisionTreeClassifier\n",
    "tree = DecisionTreeClassifier(max_depth = 10)\n",
    "tree.fit(X_train,y_train)\n",
    "print('Train Score:',tree.score(X_train,y_train))\n",
    "print('Test Score:',tree.score(X_test,y_test))"
   ]
  },
  {
   "cell_type": "code",
   "execution_count": 15,
   "id": "5af0f05d",
   "metadata": {
    "execution": {
     "iopub.execute_input": "2021-07-25T11:42:29.589595Z",
     "iopub.status.busy": "2021-07-25T11:42:29.588125Z",
     "iopub.status.idle": "2021-07-25T11:42:30.241623Z",
     "shell.execute_reply": "2021-07-25T11:42:30.240888Z",
     "shell.execute_reply.started": "2021-07-25T10:12:59.630327Z"
    },
    "papermill": {
     "duration": 0.691682,
     "end_time": "2021-07-25T11:42:30.241780",
     "exception": false,
     "start_time": "2021-07-25T11:42:29.550098",
     "status": "completed"
    },
    "tags": []
   },
   "outputs": [
    {
     "name": "stdout",
     "output_type": "stream",
     "text": [
      "0.7052664846164568\n"
     ]
    }
   ],
   "source": [
    "from sklearn.metrics import roc_curve,confusion_matrix,precision_score,recall_score,roc_auc_score\n",
    "y_score = tree.predict_proba(X_test)\n",
    "fpr, tpr, thresholds = roc_curve(y_test, y_score[:, 1])\n",
    "roc_auc_score = roc_auc_score(y_test,y_score[:,1])\n",
    "print(roc_auc_score)"
   ]
  },
  {
   "cell_type": "code",
   "execution_count": 16,
   "id": "2d436ca2",
   "metadata": {
    "execution": {
     "iopub.execute_input": "2021-07-25T11:42:30.311003Z",
     "iopub.status.busy": "2021-07-25T11:42:30.309549Z",
     "iopub.status.idle": "2021-07-25T11:42:31.292408Z",
     "shell.execute_reply": "2021-07-25T11:42:31.290933Z",
     "shell.execute_reply.started": "2021-07-25T10:13:00.263697Z"
    },
    "papermill": {
     "duration": 1.020563,
     "end_time": "2021-07-25T11:42:31.292667",
     "exception": false,
     "start_time": "2021-07-25T11:42:30.272104",
     "status": "completed"
    },
    "tags": []
   },
   "outputs": [
    {
     "name": "stdout",
     "output_type": "stream",
     "text": [
      "Precision: 0.7947786600545169, Recall: 0.8330722222222222\n"
     ]
    }
   ],
   "source": [
    "y_pred = tree.predict(X_test)\n",
    "precision = precision_score(y_test, y_pred, average = 'weighted')\n",
    "recall = recall_score(y_test, y_pred, average = 'weighted')\n",
    "print(\"Precision: %s, Recall: %s\" %(precision, recall))"
   ]
  },
  {
   "cell_type": "code",
   "execution_count": 17,
   "id": "12357b0f",
   "metadata": {
    "execution": {
     "iopub.execute_input": "2021-07-25T11:42:31.360642Z",
     "iopub.status.busy": "2021-07-25T11:42:31.359580Z",
     "iopub.status.idle": "2021-07-25T11:42:32.665977Z",
     "shell.execute_reply": "2021-07-25T11:42:32.666430Z",
     "shell.execute_reply.started": "2021-07-25T10:13:01.217048Z"
    },
    "papermill": {
     "duration": 1.342483,
     "end_time": "2021-07-25T11:42:32.666615",
     "exception": false,
     "start_time": "2021-07-25T11:42:31.324132",
     "status": "completed"
    },
    "tags": []
   },
   "outputs": [
    {
     "name": "stdout",
     "output_type": "stream",
     "text": [
      "[[739502   7314]\n",
      " [142921  10263]]\n"
     ]
    }
   ],
   "source": [
    "matrix = confusion_matrix(y_test,y_pred)\n",
    "tn, fp, fn, tp = matrix.ravel()\n",
    "print(matrix)"
   ]
  },
  {
   "cell_type": "code",
   "execution_count": 18,
   "id": "7a685c02",
   "metadata": {
    "execution": {
     "iopub.execute_input": "2021-07-25T11:42:32.735784Z",
     "iopub.status.busy": "2021-07-25T11:42:32.735133Z",
     "iopub.status.idle": "2021-07-25T11:44:15.994576Z",
     "shell.execute_reply": "2021-07-25T11:44:15.993951Z",
     "shell.execute_reply.started": "2021-07-25T10:13:02.490297Z"
    },
    "papermill": {
     "duration": 103.29788,
     "end_time": "2021-07-25T11:44:15.994718",
     "exception": false,
     "start_time": "2021-07-25T11:42:32.696838",
     "status": "completed"
    },
    "tags": []
   },
   "outputs": [
    {
     "name": "stdout",
     "output_type": "stream",
     "text": [
      "Evaluating tree with max_depth = 2\n",
      "Confusion matrix: \n",
      "[[739504   7312]\n",
      " [142925  10259]]\n",
      "Precision: 0.7947710013665857, Recall: 0.83307\n",
      "Evaluating tree with max_depth = 3\n",
      "Confusion matrix: \n",
      "[[739501   7315]\n",
      " [142920  10264]]\n",
      "Precision: 0.7947776713552092, Recall: 0.8330722222222222\n",
      "Evaluating tree with max_depth = 5\n",
      "Confusion matrix: \n",
      "[[739501   7315]\n",
      " [142920  10264]]\n",
      "Precision: 0.7947776713552092, Recall: 0.8330722222222222\n",
      "Evaluating tree with max_depth = 10\n",
      "Confusion matrix: \n",
      "[[739496   7320]\n",
      " [142913  10271]]\n",
      "Precision: 0.7947823630069799, Recall: 0.8330744444444445\n",
      "Evaluating tree with max_depth = 15\n",
      "Confusion matrix: \n",
      "[[739499   7317]\n",
      " [142918  10266]]\n",
      "Precision: 0.7947756950738907, Recall: 0.8330722222222222\n",
      "Evaluating tree with max_depth = 20\n",
      "Confusion matrix: \n",
      "[[739503   7313]\n",
      " [142917  10267]]\n",
      "Precision: 0.7948037323265112, Recall: 0.8330777777777778\n"
     ]
    }
   ],
   "source": [
    "for max_depth_val in [2, 3, 5, 10, 15, 20]:\n",
    "    clf = DecisionTreeClassifier(max_depth = max_depth_val)\n",
    "    print(\"Evaluating tree with max_depth = %s\" %(max_depth_val))\n",
    "    y_pred = tree.fit(X_train,y_train).predict(X_test) \n",
    "    print(\"Confusion matrix: \")\n",
    "    print(confusion_matrix(y_test, y_pred))\n",
    "    prec = precision_score(y_test, y_pred, average = 'weighted')\n",
    "    recall = recall_score(y_test, y_pred, average = 'weighted')\n",
    "    print(\"Precision: %s, Recall: %s\" %(prec, recall))"
   ]
  },
  {
   "cell_type": "code",
   "execution_count": 19,
   "id": "4378fc22",
   "metadata": {
    "execution": {
     "iopub.execute_input": "2021-07-25T11:44:16.075734Z",
     "iopub.status.busy": "2021-07-25T11:44:16.075059Z",
     "iopub.status.idle": "2021-07-25T11:46:48.633785Z",
     "shell.execute_reply": "2021-07-25T11:46:48.634432Z",
     "shell.execute_reply.started": "2021-07-25T10:14:47.727728Z"
    },
    "papermill": {
     "duration": 152.604471,
     "end_time": "2021-07-25T11:46:48.634811",
     "exception": false,
     "start_time": "2021-07-25T11:44:16.030340",
     "status": "completed"
    },
    "tags": []
   },
   "outputs": [
    {
     "name": "stdout",
     "output_type": "stream",
     "text": [
      "Evaluating Decision Tree for max_depth = 3\n",
      "Cross validation Recall: 0.83037\n",
      "Test Recall: 0.8330755555555556\n",
      "Evaluating Decision Tree for max_depth = 5\n",
      "Cross validation Recall: 0.8311604761904762\n",
      "Test Recall: 0.8330677777777777\n",
      "Evaluating Decision Tree for max_depth = 10\n",
      "Cross validation Recall: 0.8335938095238095\n",
      "Test Recall: 0.8330822222222222\n"
     ]
    }
   ],
   "source": [
    "from sklearn.model_selection import KFold,cross_val_score\n",
    "for max_depth_val in [3, 5, 10]:\n",
    "    k_fold = KFold(n_splits = 4)\n",
    "    clf = DecisionTreeClassifier(max_depth = max_depth_val)\n",
    "    print(\"Evaluating Decision Tree for max_depth = %s\" %(max_depth_val))\n",
    "    y_pred = tree.fit(X_train, y_train).predict(X_test) \n",
    "  \n",
    "    cv_precision = cross_val_score(clf, X_train, y_train, cv = k_fold, scoring = 'recall_weighted')\n",
    "    precision = recall_score(y_test, y_pred, average = 'weighted')\n",
    "    print(\"Cross validation Recall: %s\" %(cv_precision.mean()))\n",
    "    print(\"Test Recall: %s\" %(precision.mean()))"
   ]
  },
  {
   "cell_type": "code",
   "execution_count": 20,
   "id": "75660a66",
   "metadata": {
    "execution": {
     "iopub.execute_input": "2021-07-25T11:46:48.719108Z",
     "iopub.status.busy": "2021-07-25T11:46:48.718427Z",
     "iopub.status.idle": "2021-07-25T12:07:38.942737Z",
     "shell.execute_reply": "2021-07-25T12:07:38.943479Z",
     "shell.execute_reply.started": "2021-07-25T10:17:11.826479Z"
    },
    "papermill": {
     "duration": 1250.271668,
     "end_time": "2021-07-25T12:07:38.943777",
     "exception": false,
     "start_time": "2021-07-25T11:46:48.672109",
     "status": "completed"
    },
    "tags": []
   },
   "outputs": [
    {
     "name": "stdout",
     "output_type": "stream",
     "text": [
      "Fitting 5 folds for each of 10 candidates, totalling 50 fits\n"
     ]
    },
    {
     "name": "stderr",
     "output_type": "stream",
     "text": [
      "[Parallel(n_jobs=-1)]: Using backend LokyBackend with 4 concurrent workers.\n",
      "[Parallel(n_jobs=-1)]: Done  33 tasks      | elapsed: 12.5min\n",
      "[Parallel(n_jobs=-1)]: Done  50 out of  50 | elapsed: 20.6min finished\n"
     ]
    }
   ],
   "source": [
    "from sklearn.ensemble import RandomForestClassifier\n",
    "from sklearn.model_selection import RandomizedSearchCV\n",
    "\n",
    "param_grid = {\n",
    "    'bootstrap': [True],\n",
    "    'max_depth': [10], \n",
    "    'n_estimators':[2,5,10,20,50],\n",
    "    'min_samples_split': [2, 3, 4],\n",
    "    'max_features' : ['log2']\n",
    "}\n",
    "\n",
    "rf = RandomForestClassifier(random_state=42)\n",
    "\n",
    "rf_search = RandomizedSearchCV(estimator = rf, param_distributions=param_grid, \n",
    "                          cv = 5, n_jobs = -1, verbose = 2, n_iter = 10)\n",
    "\n",
    "model = rf_search.fit(X_train,y_train)"
   ]
  },
  {
   "cell_type": "code",
   "execution_count": 21,
   "id": "134bbb38",
   "metadata": {
    "execution": {
     "iopub.execute_input": "2021-07-25T12:07:39.028140Z",
     "iopub.status.busy": "2021-07-25T12:07:39.027418Z",
     "iopub.status.idle": "2021-07-25T12:07:39.030124Z",
     "shell.execute_reply": "2021-07-25T12:07:39.030564Z",
     "shell.execute_reply.started": "2021-07-25T10:33:42.710667Z"
    },
    "papermill": {
     "duration": 0.048317,
     "end_time": "2021-07-25T12:07:39.030734",
     "exception": false,
     "start_time": "2021-07-25T12:07:38.982417",
     "status": "completed"
    },
    "tags": []
   },
   "outputs": [
    {
     "data": {
      "text/plain": [
       "{'n_estimators': 5,\n",
       " 'min_samples_split': 2,\n",
       " 'max_features': 'log2',\n",
       " 'max_depth': 10,\n",
       " 'bootstrap': True}"
      ]
     },
     "execution_count": 21,
     "metadata": {},
     "output_type": "execute_result"
    }
   ],
   "source": [
    "rf_search.best_params_"
   ]
  },
  {
   "cell_type": "code",
   "execution_count": 22,
   "id": "c68638f9",
   "metadata": {
    "execution": {
     "iopub.execute_input": "2021-07-25T12:07:39.116390Z",
     "iopub.status.busy": "2021-07-25T12:07:39.115680Z",
     "iopub.status.idle": "2021-07-25T12:08:41.671279Z",
     "shell.execute_reply": "2021-07-25T12:08:41.671792Z",
     "shell.execute_reply.started": "2021-07-25T10:33:42.721845Z"
    },
    "papermill": {
     "duration": 62.602065,
     "end_time": "2021-07-25T12:08:41.671985",
     "exception": false,
     "start_time": "2021-07-25T12:07:39.069920",
     "status": "completed"
    },
    "tags": []
   },
   "outputs": [
    {
     "data": {
      "text/plain": [
       "RandomForestClassifier(max_depth=10, max_features='log2', n_estimators=20,\n",
       "                       random_state=42)"
      ]
     },
     "execution_count": 22,
     "metadata": {},
     "output_type": "execute_result"
    }
   ],
   "source": [
    "clf_rf = RandomForestClassifier(n_estimators= 20,\n",
    " min_samples_split= 2,\n",
    " max_features= 'log2',\n",
    " max_depth= 10,\n",
    " bootstrap= True,\n",
    " random_state=42)\n",
    "clf_rf.fit(X_train,y_train)"
   ]
  },
  {
   "cell_type": "code",
   "execution_count": 23,
   "id": "c79d2bda",
   "metadata": {
    "execution": {
     "iopub.execute_input": "2021-07-25T12:08:41.759213Z",
     "iopub.status.busy": "2021-07-25T12:08:41.758461Z",
     "iopub.status.idle": "2021-07-25T12:08:45.945704Z",
     "shell.execute_reply": "2021-07-25T12:08:45.946219Z",
     "shell.execute_reply.started": "2021-07-25T10:35:02.516874Z"
    },
    "papermill": {
     "duration": 4.234808,
     "end_time": "2021-07-25T12:08:45.946392",
     "exception": false,
     "start_time": "2021-07-25T12:08:41.711584",
     "status": "completed"
    },
    "tags": []
   },
   "outputs": [
    {
     "name": "stdout",
     "output_type": "stream",
     "text": [
      "[[740755   6061]\n",
      " [144420   8764]]\n",
      "Precision: 0.7950296111884119, Recall: 0.8327988888888889\n"
     ]
    }
   ],
   "source": [
    "y_test_pred = clf_rf.predict(X_test)\n",
    "\n",
    "print(confusion_matrix(y_test, y_test_pred))\n",
    "prec = precision_score(y_test, y_test_pred, average = 'weighted')\n",
    "recall = recall_score(y_test, y_test_pred, average = 'weighted')\n",
    "print(\"Precision: %s, Recall: %s\" %(prec, recall))"
   ]
  },
  {
   "cell_type": "code",
   "execution_count": 24,
   "id": "9ebe763f",
   "metadata": {
    "execution": {
     "iopub.execute_input": "2021-07-25T12:08:46.034769Z",
     "iopub.status.busy": "2021-07-25T12:08:46.033342Z",
     "iopub.status.idle": "2021-07-25T12:08:48.301508Z",
     "shell.execute_reply": "2021-07-25T12:08:48.300926Z",
     "shell.execute_reply.started": "2021-07-25T10:35:06.661806Z"
    },
    "papermill": {
     "duration": 2.315727,
     "end_time": "2021-07-25T12:08:48.301659",
     "exception": false,
     "start_time": "2021-07-25T12:08:45.985932",
     "status": "completed"
    },
    "tags": []
   },
   "outputs": [],
   "source": [
    "rf_prob = clf_rf.predict_proba(X_test)\n",
    "rf_fpr,rf_tpr,_ = roc_curve(y_test,rf_prob[:,1])"
   ]
  },
  {
   "cell_type": "code",
   "execution_count": 25,
   "id": "5b5f4875",
   "metadata": {
    "execution": {
     "iopub.execute_input": "2021-07-25T12:08:48.388799Z",
     "iopub.status.busy": "2021-07-25T12:08:48.388141Z",
     "iopub.status.idle": "2021-07-25T12:13:11.787454Z",
     "shell.execute_reply": "2021-07-25T12:13:11.788132Z",
     "shell.execute_reply.started": "2021-07-25T10:35:08.935841Z"
    },
    "papermill": {
     "duration": 263.446929,
     "end_time": "2021-07-25T12:13:11.788382",
     "exception": false,
     "start_time": "2021-07-25T12:08:48.341453",
     "status": "completed"
    },
    "tags": []
   },
   "outputs": [
    {
     "name": "stdout",
     "output_type": "stream",
     "text": [
      "[12:08:49] WARNING: ../src/learner.cc:573: \n",
      "Parameters: { \"silent\" } might not be used.\n",
      "\n",
      "  This may not be accurate due to some parameters are only used in language bindings but\n",
      "  passed down to XGBoost core.  Or some parameters are not used but slip through this\n",
      "  verification. Please open an issue if you find above cases.\n",
      "\n",
      "\n"
     ]
    }
   ],
   "source": [
    "import xgboost as xgb\n",
    "from sklearn.metrics import roc_curve,auc,confusion_matrix,precision_score,recall_score,roc_auc_score\n",
    "params = {\n",
    "    \"objective\": \"binary:logistic\",\n",
    "    \"booster\" : \"gbtree\",\n",
    "    \"eval_metric\": \"logloss\",\n",
    "    \"eta\":0.1,\n",
    "    \"max_depth\": 8,\n",
    "    \"subsample\": 0.8,\n",
    "    \"colsample_bytree\": 0.8,\n",
    "    \"silent\": 1,\n",
    "}\n",
    "xgclf=xgb.XGBClassifier(**params)\n",
    "xgclf.fit(X_train, y_train,\n",
    "        eval_set=[(X_test, y_test)],\n",
    "        eval_metric='logloss',\n",
    "        verbose=False)\n",
    "xgpred=xgclf.predict_proba(X_test)"
   ]
  },
  {
   "cell_type": "code",
   "execution_count": 26,
   "id": "ca772d83",
   "metadata": {
    "execution": {
     "iopub.execute_input": "2021-07-25T12:13:11.873839Z",
     "iopub.status.busy": "2021-07-25T12:13:11.873196Z",
     "iopub.status.idle": "2021-07-25T12:13:13.909272Z",
     "shell.execute_reply": "2021-07-25T12:13:13.909767Z",
     "shell.execute_reply.started": "2021-07-25T10:39:25.693750Z"
    },
    "papermill": {
     "duration": 2.079744,
     "end_time": "2021-07-25T12:13:13.909973",
     "exception": false,
     "start_time": "2021-07-25T12:13:11.830229",
     "status": "completed"
    },
    "tags": []
   },
   "outputs": [
    {
     "name": "stdout",
     "output_type": "stream",
     "text": [
      "0.7379208535268862\n",
      "0.8339044444444444\n"
     ]
    }
   ],
   "source": [
    "from sklearn import metrics \n",
    "#y_score = xgclf.predict_proba(x_test)\n",
    "#fpr, tpr, thresholds = roc_curve(y_test, y_score[:, 1])\n",
    "roc_auc_score = metrics.roc_auc_score(y_test,xgpred[:,1])\n",
    "print(roc_auc_score)\n",
    "print(xgclf.score(X_test,y_test))\n",
    "xgb_fpr,xgb_tpr,_ = roc_curve(y_test,xgpred[:,1])"
   ]
  },
  {
   "cell_type": "code",
   "execution_count": 27,
   "id": "d400bdb4",
   "metadata": {
    "execution": {
     "iopub.execute_input": "2021-07-25T12:13:13.997811Z",
     "iopub.status.busy": "2021-07-25T12:13:13.997172Z",
     "iopub.status.idle": "2021-07-25T12:44:20.484422Z",
     "shell.execute_reply": "2021-07-25T12:44:20.485224Z",
     "shell.execute_reply.started": "2021-07-25T10:39:27.698745Z"
    },
    "papermill": {
     "duration": 1866.534199,
     "end_time": "2021-07-25T12:44:20.485513",
     "exception": false,
     "start_time": "2021-07-25T12:13:13.951314",
     "status": "completed"
    },
    "tags": []
   },
   "outputs": [
    {
     "name": "stdout",
     "output_type": "stream",
     "text": [
      "[12:13:14] WARNING: ../src/learner.cc:573: \n",
      "Parameters: { \"silent\" } might not be used.\n",
      "\n",
      "  This may not be accurate due to some parameters are only used in language bindings but\n",
      "  passed down to XGBoost core.  Or some parameters are not used but slip through this\n",
      "  verification. Please open an issue if you find above cases.\n",
      "\n",
      "\n",
      "[12:16:25] WARNING: ../src/learner.cc:573: \n",
      "Parameters: { \"silent\" } might not be used.\n",
      "\n",
      "  This may not be accurate due to some parameters are only used in language bindings but\n",
      "  passed down to XGBoost core.  Or some parameters are not used but slip through this\n",
      "  verification. Please open an issue if you find above cases.\n",
      "\n",
      "\n",
      "[12:19:45] WARNING: ../src/learner.cc:573: \n",
      "Parameters: { \"silent\" } might not be used.\n",
      "\n",
      "  This may not be accurate due to some parameters are only used in language bindings but\n",
      "  passed down to XGBoost core.  Or some parameters are not used but slip through this\n",
      "  verification. Please open an issue if you find above cases.\n",
      "\n",
      "\n",
      "[12:22:53] WARNING: ../src/learner.cc:573: \n",
      "Parameters: { \"silent\" } might not be used.\n",
      "\n",
      "  This may not be accurate due to some parameters are only used in language bindings but\n",
      "  passed down to XGBoost core.  Or some parameters are not used but slip through this\n",
      "  verification. Please open an issue if you find above cases.\n",
      "\n",
      "\n",
      "[12:25:54] WARNING: ../src/learner.cc:573: \n",
      "Parameters: { \"silent\" } might not be used.\n",
      "\n",
      "  This may not be accurate due to some parameters are only used in language bindings but\n",
      "  passed down to XGBoost core.  Or some parameters are not used but slip through this\n",
      "  verification. Please open an issue if you find above cases.\n",
      "\n",
      "\n",
      "[12:28:56] WARNING: ../src/learner.cc:573: \n",
      "Parameters: { \"silent\" } might not be used.\n",
      "\n",
      "  This may not be accurate due to some parameters are only used in language bindings but\n",
      "  passed down to XGBoost core.  Or some parameters are not used but slip through this\n",
      "  verification. Please open an issue if you find above cases.\n",
      "\n",
      "\n",
      "[12:32:06] WARNING: ../src/learner.cc:573: \n",
      "Parameters: { \"silent\" } might not be used.\n",
      "\n",
      "  This may not be accurate due to some parameters are only used in language bindings but\n",
      "  passed down to XGBoost core.  Or some parameters are not used but slip through this\n",
      "  verification. Please open an issue if you find above cases.\n",
      "\n",
      "\n",
      "[12:35:13] WARNING: ../src/learner.cc:573: \n",
      "Parameters: { \"silent\" } might not be used.\n",
      "\n",
      "  This may not be accurate due to some parameters are only used in language bindings but\n",
      "  passed down to XGBoost core.  Or some parameters are not used but slip through this\n",
      "  verification. Please open an issue if you find above cases.\n",
      "\n",
      "\n",
      "[12:38:12] WARNING: ../src/learner.cc:573: \n",
      "Parameters: { \"silent\" } might not be used.\n",
      "\n",
      "  This may not be accurate due to some parameters are only used in language bindings but\n",
      "  passed down to XGBoost core.  Or some parameters are not used but slip through this\n",
      "  verification. Please open an issue if you find above cases.\n",
      "\n",
      "\n",
      "[12:41:23] WARNING: ../src/learner.cc:573: \n",
      "Parameters: { \"silent\" } might not be used.\n",
      "\n",
      "  This may not be accurate due to some parameters are only used in language bindings but\n",
      "  passed down to XGBoost core.  Or some parameters are not used but slip through this\n",
      "  verification. Please open an issue if you find above cases.\n",
      "\n",
      "\n",
      "Precision scores: 0.8002495928864158\n",
      "Recall scores: 0.8344971428571428\n",
      "KFold(n_splits=5, random_state=None, shuffle=False)\n"
     ]
    }
   ],
   "source": [
    "from sklearn.model_selection import KFold,cross_val_score\n",
    "# Set up k-fold\n",
    "k_fold = KFold(n_splits = 5)\n",
    "\n",
    "# Evaluate precision and recall for each fold\n",
    "precision = cross_val_score(\n",
    "  xgclf, X_train, y_train, cv = k_fold, scoring = 'precision_weighted')\n",
    "recall = cross_val_score(\n",
    "  xgclf, X_train, y_train, cv = k_fold, scoring = 'recall_weighted')\n",
    "print(\"Precision scores: %s\" %(precision.mean())) \n",
    "print(\"Recall scores: %s\" %(recall.mean()))\n",
    "print(k_fold)"
   ]
  },
  {
   "cell_type": "code",
   "execution_count": 28,
   "id": "c6f53d70",
   "metadata": {
    "execution": {
     "iopub.execute_input": "2021-07-25T12:44:20.613619Z",
     "iopub.status.busy": "2021-07-25T12:44:20.604422Z",
     "iopub.status.idle": "2021-07-25T12:44:20.853202Z",
     "shell.execute_reply": "2021-07-25T12:44:20.852592Z",
     "shell.execute_reply.started": "2021-07-25T11:10:57.035658Z"
    },
    "papermill": {
     "duration": 0.322538,
     "end_time": "2021-07-25T12:44:20.853345",
     "exception": false,
     "start_time": "2021-07-25T12:44:20.530807",
     "status": "completed"
    },
    "tags": []
   },
   "outputs": [],
   "source": [
    "random_probs = [0 for i in range(len(y_test))]\n",
    "p_fpr, p_tpr, _ = roc_curve(y_test, random_probs, pos_label=1)"
   ]
  },
  {
   "cell_type": "code",
   "execution_count": 29,
   "id": "f35248c6",
   "metadata": {
    "execution": {
     "iopub.execute_input": "2021-07-25T12:44:20.979109Z",
     "iopub.status.busy": "2021-07-25T12:44:20.978420Z",
     "iopub.status.idle": "2021-07-25T12:44:21.385094Z",
     "shell.execute_reply": "2021-07-25T12:44:21.385576Z",
     "shell.execute_reply.started": "2021-07-25T11:10:57.317557Z"
    },
    "papermill": {
     "duration": 0.487486,
     "end_time": "2021-07-25T12:44:21.385738",
     "exception": false,
     "start_time": "2021-07-25T12:44:20.898252",
     "status": "completed"
    },
    "tags": []
   },
   "outputs": [
    {
     "data": {
      "text/plain": [
       "Text(0.5, 1.0, 'AUC-ROC Curve')"
      ]
     },
     "execution_count": 29,
     "metadata": {},
     "output_type": "execute_result"
    },
    {
     "data": {
      "image/png": "[encoded data removed]",
      "text/plain": [
       "<Figure size 576x396 with 1 Axes>"
      ]
     },
     "metadata": {},
     "output_type": "display_data"
    }
   ],
   "source": [
    "plt.style.use('seaborn')\n",
    "plt.plot(fpr,tpr,linestyle = '--',color = 'green',label='Decision Tree')\n",
    "plt.plot(rf_fpr,rf_tpr,linestyle = '--',color = 'yellow',label='Random Forest')\n",
    "plt.plot(xgb_fpr,xgb_tpr,linestyle = '--',color = 'orange',label='XGBoost')\n",
    "plt.plot(p_fpr,p_tpr,linestyle='--',color = 'blue')\n",
    "plt.legend()\n",
    "plt.xlabel('FPR')\n",
    "plt.ylabel('TPR')\n",
    "plt.title('AUC-ROC Curve')"
   ]
  },
  {
   "cell_type": "code",
   "execution_count": null,
   "id": "e6a1c51c",
   "metadata": {
    "papermill": {
     "duration": 0.045166,
     "end_time": "2021-07-25T12:44:21.476601",
     "exception": false,
     "start_time": "2021-07-25T12:44:21.431435",
     "status": "completed"
    },
    "tags": []
   },
   "outputs": [],
   "source": []
  }
 ],
 "metadata": {
  "kernelspec": {
   "display_name": "Python 3",
   "language": "python",
   "name": "python3"
  },
  "language_info": {
   "codemirror_mode": {
    "name": "ipython",
    "version": 3
   },
   "file_extension": ".py",
   "mimetype": "text/x-python",
   "name": "python",
   "nbconvert_exporter": "python",
   "pygments_lexer": "ipython3",
   "version": "3.7.10"
  },
  "papermill": {
   "default_parameters": {},
   "duration": 4008.882877,
   "end_time": "2021-07-25T12:44:24.133703",
   "environment_variables": {},
   "exception": null,
   "input_path": "__notebook__.ipynb",
   "output_path": "__notebook__.ipynb",
   "parameters": {},
   "start_time": "2021-07-25T11:37:35.250826",
   "version": "2.3.3"
  }
 },
 "nbformat": 4,
 "nbformat_minor": 5
}
